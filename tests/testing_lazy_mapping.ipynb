{
 "cells": [
  {
   "cell_type": "code",
   "execution_count": 1,
   "id": "bbe8bccd",
   "metadata": {},
   "outputs": [],
   "source": [
    "import sys\n",
    "sys.path.append('../')"
   ]
  },
  {
   "cell_type": "code",
   "execution_count": 2,
   "id": "14483181",
   "metadata": {},
   "outputs": [],
   "source": [
    "from src.TVSD.TVSD import VolumeSlicingDataset, SlicedSegmentation"
   ]
  },
  {
   "cell_type": "code",
   "execution_count": 8,
   "id": "d0683add",
   "metadata": {},
   "outputs": [],
   "source": [
    "addr_eyes_0 = '/mnt/HD-LSDF/Medaka/segmentations/workshop/eye_decropped/01-508.tif'\n",
    "addr_eyes_1 = '/mnt/HD-LSDF/Medaka/segmentations/workshop/eye_decropped_compressed/01-508.tif'\n",
    "addr_eyes_2 = '/mnt/HD-LSDF/Medaka/segmentations/workshop/corrected_eyes/01-508.nii'"
   ]
  },
  {
   "cell_type": "code",
   "execution_count": 3,
   "id": "2668602d",
   "metadata": {},
   "outputs": [],
   "source": [
    "addr_vol = '/mnt/HD-LSDF/Medaka/segmentations/workshop/medaka_decropped/508.tif'"
   ]
  },
  {
   "cell_type": "code",
   "execution_count": 4,
   "id": "eb52d781",
   "metadata": {},
   "outputs": [],
   "source": [
    "from univread import read as imread\n",
    "import numpy as np"
   ]
  },
  {
   "cell_type": "code",
   "execution_count": 5,
   "id": "bca508bf",
   "metadata": {},
   "outputs": [],
   "source": [
    "convo = {0: 0, 1: 1, 2: 1, 3: 0, 4: 0, 5: 3, 6: 3, 7: 4, 8: 4, 9: 5, 10: 5, 11: 6, 12: 6}"
   ]
  },
  {
   "cell_type": "code",
   "execution_count": 6,
   "id": "33625933",
   "metadata": {},
   "outputs": [],
   "source": [
    "from tqdm.auto import tqdm"
   ]
  },
  {
   "cell_type": "code",
   "execution_count": 9,
   "id": "3da9673b",
   "metadata": {},
   "outputs": [],
   "source": [
    "seg_sample_0 = SlicedSegmentation(addr_eyes_0, use_ram=False, label_converter=convo)"
   ]
  },
  {
   "cell_type": "code",
   "execution_count": 10,
   "id": "176ecd13",
   "metadata": {},
   "outputs": [
    {
     "data": {
      "application/vnd.jupyter.widget-view+json": {
       "model_id": "f57f8ce289d9468f8510102b3c7b3633",
       "version_major": 2,
       "version_minor": 0
      },
      "text/plain": [
       "  0%|          | 0/1977 [00:00<?, ?it/s]"
      ]
     },
     "metadata": {},
     "output_type": "display_data"
    }
   ],
   "source": [
    "uniques = []\n",
    "for i in tqdm(range(len(seg_sample_0))):\n",
    "    uniques.append(np.unique(seg_sample_0[i]))"
   ]
  },
  {
   "cell_type": "code",
   "execution_count": 11,
   "id": "306d7d82",
   "metadata": {
    "scrolled": true
   },
   "outputs": [
    {
     "data": {
      "text/plain": [
       "array([0, 1, 3, 4, 5, 6])"
      ]
     },
     "execution_count": 11,
     "metadata": {},
     "output_type": "execute_result"
    }
   ],
   "source": [
    "np.unique(np.concatenate(uniques))"
   ]
  },
  {
   "cell_type": "code",
   "execution_count": 13,
   "id": "62651389",
   "metadata": {},
   "outputs": [
    {
     "data": {
      "text/plain": [
       "181"
      ]
     },
     "execution_count": 13,
     "metadata": {},
     "output_type": "execute_result"
    }
   ],
   "source": [
    "seg_sample_0._contains_markup().sum()"
   ]
  },
  {
   "cell_type": "code",
   "execution_count": 14,
   "id": "dabcc08a",
   "metadata": {},
   "outputs": [],
   "source": [
    "seg_sample_1 = SlicedSegmentation(addr_eyes_0, use_ram=False)"
   ]
  },
  {
   "cell_type": "code",
   "execution_count": 15,
   "id": "44377a9c",
   "metadata": {},
   "outputs": [
    {
     "data": {
      "application/vnd.jupyter.widget-view+json": {
       "model_id": "38e110e6830b4ed798e7f3d19d2e9cda",
       "version_major": 2,
       "version_minor": 0
      },
      "text/plain": [
       "  0%|          | 0/1977 [00:00<?, ?it/s]"
      ]
     },
     "metadata": {},
     "output_type": "display_data"
    }
   ],
   "source": [
    "uniques = []\n",
    "for i in tqdm(range(len(seg_sample_1))):\n",
    "    uniques.append(np.unique(seg_sample_1[i]))"
   ]
  },
  {
   "cell_type": "code",
   "execution_count": 16,
   "id": "ab4071dd",
   "metadata": {
    "scrolled": true
   },
   "outputs": [
    {
     "data": {
      "text/plain": [
       "array([ 0,  1,  2,  3,  4,  5,  6,  7,  8,  9, 10, 11, 12], dtype=uint16)"
      ]
     },
     "execution_count": 16,
     "metadata": {},
     "output_type": "execute_result"
    }
   ],
   "source": [
    "np.unique(np.concatenate(uniques))"
   ]
  },
  {
   "cell_type": "code",
   "execution_count": 17,
   "id": "32955cea",
   "metadata": {},
   "outputs": [
    {
     "data": {
      "text/plain": [
       "181"
      ]
     },
     "execution_count": 17,
     "metadata": {},
     "output_type": "execute_result"
    }
   ],
   "source": [
    "seg_sample_1._contains_markup().sum()"
   ]
  },
  {
   "cell_type": "code",
   "execution_count": 18,
   "id": "26554978",
   "metadata": {},
   "outputs": [],
   "source": [
    "seg_sample_2 = SlicedSegmentation(addr_eyes_0, use_ram=True, label_converter=convo)"
   ]
  },
  {
   "cell_type": "code",
   "execution_count": 19,
   "id": "ce77ed16",
   "metadata": {},
   "outputs": [
    {
     "data": {
      "application/vnd.jupyter.widget-view+json": {
       "model_id": "ee5cb2771173484c8f3351726d1879b5",
       "version_major": 2,
       "version_minor": 0
      },
      "text/plain": [
       "  0%|          | 0/1977 [00:00<?, ?it/s]"
      ]
     },
     "metadata": {},
     "output_type": "display_data"
    }
   ],
   "source": [
    "uniques = []\n",
    "for i in tqdm(range(len(seg_sample_2))):\n",
    "    uniques.append(np.unique(seg_sample_2[i]))"
   ]
  },
  {
   "cell_type": "code",
   "execution_count": 20,
   "id": "3ab07646",
   "metadata": {},
   "outputs": [
    {
     "data": {
      "text/plain": [
       "array([0, 1, 3, 4, 5, 6])"
      ]
     },
     "execution_count": 20,
     "metadata": {},
     "output_type": "execute_result"
    }
   ],
   "source": [
    "np.unique(np.concatenate(uniques))"
   ]
  },
  {
   "cell_type": "code",
   "execution_count": 21,
   "id": "0addc18d",
   "metadata": {},
   "outputs": [
    {
     "data": {
      "text/plain": [
       "181"
      ]
     },
     "execution_count": 21,
     "metadata": {},
     "output_type": "execute_result"
    }
   ],
   "source": [
    "seg_sample_2._contains_markup().sum()"
   ]
  },
  {
   "cell_type": "code",
   "execution_count": null,
   "id": "132375ec",
   "metadata": {},
   "outputs": [],
   "source": [
    "vd = VolumeSlicingDataset(volume=addr_vol, )"
   ]
  }
 ],
 "metadata": {
  "kernelspec": {
   "display_name": "Python 3 (ipykernel)",
   "language": "python",
   "name": "python3"
  },
  "language_info": {
   "codemirror_mode": {
    "name": "ipython",
    "version": 3
   },
   "file_extension": ".py",
   "mimetype": "text/x-python",
   "name": "python",
   "nbconvert_exporter": "python",
   "pygments_lexer": "ipython3",
   "version": "3.9.7"
  }
 },
 "nbformat": 4,
 "nbformat_minor": 5
}
